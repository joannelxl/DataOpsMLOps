{
 "cells": [
  {
   "cell_type": "code",
   "execution_count": 1,
   "metadata": {},
   "outputs": [],
   "source": [
    "import pandas as pd\n",
    "import numpy as np\n",
    "\n",
    "import warnings\n",
    "warnings.filterwarnings(\"ignore\")"
   ]
  },
  {
   "cell_type": "code",
   "execution_count": 5,
   "metadata": {},
   "outputs": [],
   "source": [
    "df = pd.read_csv('trip_advisor.csv')\n",
    "\n",
    "ta_df = df.copy()"
   ]
  },
  {
   "cell_type": "markdown",
   "metadata": {},
   "source": [
    "# DATA CLEANING"
   ]
  },
  {
   "cell_type": "code",
   "execution_count": 6,
   "metadata": {},
   "outputs": [
    {
     "data": {
      "text/html": [
       "<div>\n",
       "<style scoped>\n",
       "    .dataframe tbody tr th:only-of-type {\n",
       "        vertical-align: middle;\n",
       "    }\n",
       "\n",
       "    .dataframe tbody tr th {\n",
       "        vertical-align: top;\n",
       "    }\n",
       "\n",
       "    .dataframe thead th {\n",
       "        text-align: right;\n",
       "    }\n",
       "</style>\n",
       "<table border=\"1\" class=\"dataframe\">\n",
       "  <thead>\n",
       "    <tr style=\"text-align: right;\">\n",
       "      <th></th>\n",
       "      <th>Review Title</th>\n",
       "      <th>Review Text</th>\n",
       "      <th>Date of Stay</th>\n",
       "      <th>Author Contribution</th>\n",
       "      <th>Rating</th>\n",
       "    </tr>\n",
       "  </thead>\n",
       "  <tbody>\n",
       "    <tr>\n",
       "      <th>0</th>\n",
       "      <td>Must see in Singapore</td>\n",
       "      <td>A must not miss place for tourists to visit wh...</td>\n",
       "      <td>2024-03-01</td>\n",
       "      <td>73</td>\n",
       "      <td>5.0</td>\n",
       "    </tr>\n",
       "    <tr>\n",
       "      <th>1</th>\n",
       "      <td>Marina Bay world class</td>\n",
       "      <td>Amazing hotel and loved the facilities. Being ...</td>\n",
       "      <td>2024-03-01</td>\n",
       "      <td>1</td>\n",
       "      <td>5.0</td>\n",
       "    </tr>\n",
       "    <tr>\n",
       "      <th>2</th>\n",
       "      <td>Nice touch.</td>\n",
       "      <td>While the initial check in experience was not ...</td>\n",
       "      <td>2024-03-01</td>\n",
       "      <td>2</td>\n",
       "      <td>5.0</td>\n",
       "    </tr>\n",
       "    <tr>\n",
       "      <th>3</th>\n",
       "      <td>Amazing experience at MBS with superb hospital...</td>\n",
       "      <td>I booked the Sands Premiere Suite to celebrate...</td>\n",
       "      <td>2024-03-01</td>\n",
       "      <td>1</td>\n",
       "      <td>5.0</td>\n",
       "    </tr>\n",
       "    <tr>\n",
       "      <th>4</th>\n",
       "      <td>Incredibile</td>\n",
       "      <td>Nina is amazing as all the team, I loved her h...</td>\n",
       "      <td>2024-03-01</td>\n",
       "      <td>2</td>\n",
       "      <td>5.0</td>\n",
       "    </tr>\n",
       "  </tbody>\n",
       "</table>\n",
       "</div>"
      ],
      "text/plain": [
       "                                        Review Title  \\\n",
       "0                              Must see in Singapore   \n",
       "1                             Marina Bay world class   \n",
       "2                                        Nice touch.   \n",
       "3  Amazing experience at MBS with superb hospital...   \n",
       "4                                        Incredibile   \n",
       "\n",
       "                                         Review Text Date of Stay  \\\n",
       "0  A must not miss place for tourists to visit wh...   2024-03-01   \n",
       "1  Amazing hotel and loved the facilities. Being ...   2024-03-01   \n",
       "2  While the initial check in experience was not ...   2024-03-01   \n",
       "3  I booked the Sands Premiere Suite to celebrate...   2024-03-01   \n",
       "4  Nina is amazing as all the team, I loved her h...   2024-03-01   \n",
       "\n",
       "  Author Contribution  Rating  \n",
       "0                  73     5.0  \n",
       "1                   1     5.0  \n",
       "2                   2     5.0  \n",
       "3                   1     5.0  \n",
       "4                   2     5.0  "
      ]
     },
     "execution_count": 6,
     "metadata": {},
     "output_type": "execute_result"
    }
   ],
   "source": [
    "ta_df.head()"
   ]
  },
  {
   "cell_type": "code",
   "execution_count": 7,
   "metadata": {},
   "outputs": [
    {
     "data": {
      "text/plain": [
       "Review Title           0\n",
       "Review Text            0\n",
       "Date of Stay           0\n",
       "Author Contribution    0\n",
       "Rating                 0\n",
       "dtype: int64"
      ]
     },
     "execution_count": 7,
     "metadata": {},
     "output_type": "execute_result"
    }
   ],
   "source": [
    "ta_df.isnull().sum()"
   ]
  },
  {
   "cell_type": "code",
   "execution_count": 8,
   "metadata": {},
   "outputs": [
    {
     "name": "stdout",
     "output_type": "stream",
     "text": [
      "<class 'pandas.core.frame.DataFrame'>\n",
      "RangeIndex: 11232 entries, 0 to 11231\n",
      "Data columns (total 5 columns):\n",
      " #   Column               Non-Null Count  Dtype  \n",
      "---  ------               --------------  -----  \n",
      " 0   Review Title         11232 non-null  object \n",
      " 1   Review Text          11232 non-null  object \n",
      " 2   Date of Stay         11232 non-null  object \n",
      " 3   Author Contribution  11232 non-null  object \n",
      " 4   Rating               11232 non-null  float64\n",
      "dtypes: float64(1), object(4)\n",
      "memory usage: 438.9+ KB\n"
     ]
    }
   ],
   "source": [
    "ta_df.info()"
   ]
  },
  {
   "cell_type": "code",
   "execution_count": 15,
   "metadata": {},
   "outputs": [
    {
     "name": "stdout",
     "output_type": "stream",
     "text": [
      "<class 'pandas.core.frame.DataFrame'>\n",
      "RangeIndex: 11232 entries, 0 to 11231\n",
      "Data columns (total 5 columns):\n",
      " #   Column               Non-Null Count  Dtype         \n",
      "---  ------               --------------  -----         \n",
      " 0   Review Title         11232 non-null  object        \n",
      " 1   Review Text          11232 non-null  object        \n",
      " 2   Date of Stay         0 non-null      datetime64[ns]\n",
      " 3   Author Contribution  11232 non-null  object        \n",
      " 4   Rating               11232 non-null  int32         \n",
      "dtypes: datetime64[ns](1), int32(1), object(3)\n",
      "memory usage: 395.0+ KB\n"
     ]
    }
   ],
   "source": [
    "ta_df['Rating'] = ta_df['Rating'].astype(int)\n",
    "ta_df['Date of Stay'] = pd.to_datetime(ta_df['Date of Stay'],format='%m/%d/%y')\n",
    "\n",
    "ta_df.info()"
   ]
  }
 ],
 "metadata": {
  "kernelspec": {
   "display_name": "Python 3",
   "language": "python",
   "name": "python3"
  },
  "language_info": {
   "codemirror_mode": {
    "name": "ipython",
    "version": 3
   },
   "file_extension": ".py",
   "mimetype": "text/x-python",
   "name": "python",
   "nbconvert_exporter": "python",
   "pygments_lexer": "ipython3",
   "version": "3.11.3"
  }
 },
 "nbformat": 4,
 "nbformat_minor": 2
}
