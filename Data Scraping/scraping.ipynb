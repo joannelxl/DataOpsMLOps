{
 "cells": [
  {
   "cell_type": "markdown",
   "metadata": {},
   "source": [
    "Sitemap: https://www.booking.com/sitembk-hotel-index.xml\n",
    "\n",
    "Sitemap: https://www.booking.com/sitembk-hotel-review-index.xml\n",
    "\n",
    "https://www.booking.com/robots.txt"
   ]
  },
  {
   "cell_type": "code",
   "execution_count": null,
   "metadata": {},
   "outputs": [],
   "source": [
    "# !pip install requests beautifulsoup4 pandas"
   ]
  },
  {
   "cell_type": "code",
   "execution_count": 7,
   "metadata": {},
   "outputs": [],
   "source": [
    "from bs4 import BeautifulSoup\n",
    "import pandas as pd\n",
    "import requests\n",
    "import gzip\n",
    "from io import BytesIO\n",
    "import lxml"
   ]
  },
  {
   "cell_type": "code",
   "execution_count": 8,
   "metadata": {},
   "outputs": [],
   "source": [
    "# def get_hotel_details(hotels_list, df):\n",
    "\n",
    "#     for hotel in hotels_list:\n",
    "        \n",
    "#         url = hotel\n",
    "#         response = requests.get(url)\n",
    "#         soup = BeautifulSoup(response.text, 'html.parser')\n",
    "\n",
    "#         # get hotel name\n",
    "#         hotel_name = soup.find('a', class_='fn').text.strip()\n",
    "\n",
    "#         # get overall rating (value)\n",
    "#         overall_rating = soup.find('div', class_='a3b8729ab1 d86cee9b25').contents[0].strip()\n",
    "\n",
    "#         # get overall raing (good, very good, etc)\n",
    "#         rated = soup.find('div', class_='e6208ee469').contents[0].strip()\n",
    "\n",
    "#         # get number of reviews\n",
    "#         num_reviews = soup.find('span', class_='a3b8729ab1 f45d8e4c32 d935416c47').contents[2].strip()\n",
    "\n",
    "#         # get individual ratings\n",
    "#         rating_div = soup.find_all('div', {'data-testid': 'review-subscore'})\n",
    "#         staff = BeautifulSoup(str(rating_div[0]), 'html.parser').find('div', class_='ccb65902b2 efcd70b4c4').text.strip()\n",
    "#         facilities = BeautifulSoup(str(rating_div[1]), 'html.parser').find('div', class_='ccb65902b2 efcd70b4c4').text.strip()\n",
    "#         cleanliness = BeautifulSoup(str(rating_div[2]), 'html.parser').find('div', class_='ccb65902b2 efcd70b4c4').text.strip()\n",
    "#         comfort = BeautifulSoup(str(rating_div[3]), 'html.parser').find('div', class_='ccb65902b2 efcd70b4c4').text.strip()\n",
    "#         value_for_money = BeautifulSoup(str(rating_div[4]), 'html.parser').find('div', class_='ccb65902b2 efcd70b4c4').text.strip()\n",
    "#         location = BeautifulSoup(str(rating_div[5]), 'html.parser').find('div', class_='ccb65902b2 efcd70b4c4').text.strip()\n",
    "#         free_wifi = BeautifulSoup(str(rating_div[6]), 'html.parser').find('div', class_='ccb65902b2 efcd70b4c4').text.strip()\n",
    "\n",
    "\n",
    "#         df.loc[len(df)] = [hotel_name, overall_rating, rated, num_reviews, staff, facilities, cleanliness, comfort, value_for_money, location, free_wifi]\n",
    "        \n",
    "        "
   ]
  },
  {
   "cell_type": "code",
   "execution_count": 9,
   "metadata": {},
   "outputs": [
    {
     "data": {
      "text/html": [
       "<div>\n",
       "<style scoped>\n",
       "    .dataframe tbody tr th:only-of-type {\n",
       "        vertical-align: middle;\n",
       "    }\n",
       "\n",
       "    .dataframe tbody tr th {\n",
       "        vertical-align: top;\n",
       "    }\n",
       "\n",
       "    .dataframe thead th {\n",
       "        text-align: right;\n",
       "    }\n",
       "</style>\n",
       "<table border=\"1\" class=\"dataframe\">\n",
       "  <thead>\n",
       "    <tr style=\"text-align: right;\">\n",
       "      <th></th>\n",
       "      <th>Hotel Name</th>\n",
       "      <th>Overall Rating (Value)</th>\n",
       "      <th>Overall Rating</th>\n",
       "      <th>Number of Reviews</th>\n",
       "      <th>Staff</th>\n",
       "      <th>Facilities</th>\n",
       "      <th>Cleanliness</th>\n",
       "      <th>Comfort</th>\n",
       "      <th>Value for Money</th>\n",
       "      <th>Location</th>\n",
       "      <th>Free WiFi</th>\n",
       "    </tr>\n",
       "  </thead>\n",
       "  <tbody>\n",
       "  </tbody>\n",
       "</table>\n",
       "</div>"
      ],
      "text/plain": [
       "Empty DataFrame\n",
       "Columns: [Hotel Name, Overall Rating (Value), Overall Rating, Number of Reviews, Staff, Facilities, Cleanliness, Comfort, Value for Money, Location, Free WiFi]\n",
       "Index: []"
      ]
     },
     "execution_count": 9,
     "metadata": {},
     "output_type": "execute_result"
    }
   ],
   "source": [
    "data = {\n",
    "    'Hotel Name': [],\n",
    "    'Overall Rating (Value)': [],\n",
    "    'Overall Rating': [],\n",
    "    'Number of Reviews': [],\n",
    "    'Staff': [],\n",
    "    'Facilities': [],\n",
    "    'Cleanliness': [],\n",
    "    'Comfort': [],\n",
    "    'Value for Money': [],\n",
    "    'Location': [],\n",
    "    'Free WiFi': []\n",
    "}\n",
    "\n",
    "# Create the DataFrame\n",
    "df = pd.DataFrame(data)\n",
    "\n",
    "# Display the DataFrame\n",
    "df\n"
   ]
  },
  {
   "cell_type": "code",
   "execution_count": 10,
   "metadata": {},
   "outputs": [],
   "source": [
    "def get_hotel_details(hotels_list, df):\n",
    "\n",
    "    for hotel in hotels_list:\n",
    "        \n",
    "        url = hotel\n",
    "        response = requests.get(url)\n",
    "        soup = BeautifulSoup(response.text, 'html.parser')\n",
    "\n",
    "        # get hotel name\n",
    "        hotel_name_element = soup.find('a', class_='fn')\n",
    "        hotel_name = hotel_name_element.text.strip() if hotel_name_element else None\n",
    "\n",
    "        # get overall rating (value)\n",
    "        overall_rating_element = soup.find('div', class_='a3b8729ab1 d86cee9b25')\n",
    "        overall_rating = str(overall_rating_element.contents[0].strip()) if overall_rating_element else None\n",
    "\n",
    "        # get overall rating (good, very good, etc)\n",
    "        rated_element = soup.find('div', class_='e6208ee469')\n",
    "        rated = rated_element.contents[0].strip() if rated_element else None\n",
    "\n",
    "        # get number of reviews\n",
    "        num_reviews_element = soup.find('span', class_='a3b8729ab1 f45d8e4c32 d935416c47')\n",
    "        num_reviews = int(num_reviews_element.contents[2].strip().split(' ')[0].replace(',', '')) if num_reviews_element else None\n",
    "\n",
    "        if overall_rating is None:\n",
    "            rated = None\n",
    "\n",
    "        # get individual ratings\n",
    "        rating_div = soup.find_all('div', {'data-testid': 'review-subscore'})\n",
    "        staff = float(get_rating(rating_div, 0)) if staff else None\n",
    "        facilities = float(get_rating(rating_div, 1)) if facilities else None\n",
    "        cleanliness = float(get_rating(rating_div, 2)) if cleanliness else None\n",
    "        comfort = float(get_rating(rating_div, 3)) if comfort else None\n",
    "        value_for_money = float(get_rating(rating_div, 4)) if value_for_money else None\n",
    "        location = float(get_rating(rating_div, 5)) if location else None\n",
    "        free_wifi = float(get_rating(rating_div, 6)) if free_wifi else None\n",
    "\n",
    "        df.loc[len(df)] = [hotel_name, overall_rating, rated, num_reviews, staff, facilities, cleanliness, comfort, value_for_money, location, free_wifi]\n",
    "\n",
    "def get_rating(rating_div, index):\n",
    "    if rating_div and len(rating_div) > index:\n",
    "        rating_element = rating_div[index].find('div', class_='ccb65902b2 efcd70b4c4')\n",
    "        return rating_element.text.strip() if rating_element else None\n",
    "    else:\n",
    "        return None\n",
    "\n"
   ]
  },
  {
   "cell_type": "code",
   "execution_count": 11,
   "metadata": {},
   "outputs": [
    {
     "ename": "UnboundLocalError",
     "evalue": "cannot access local variable 'staff' where it is not associated with a value",
     "output_type": "error",
     "traceback": [
      "\u001b[1;31m---------------------------------------------------------------------------\u001b[0m",
      "\u001b[1;31mUnboundLocalError\u001b[0m                         Traceback (most recent call last)",
      "Cell \u001b[1;32mIn[11], line 9\u001b[0m\n\u001b[0;32m      7\u001b[0m hotels_list \u001b[38;5;241m=\u001b[39m [url\u001b[38;5;241m.\u001b[39mreplace(\u001b[38;5;124m'\u001b[39m\u001b[38;5;124mvi\u001b[39m\u001b[38;5;124m'\u001b[39m, \u001b[38;5;124m'\u001b[39m\u001b[38;5;124men-gb\u001b[39m\u001b[38;5;124m'\u001b[39m) \u001b[38;5;28;01mfor\u001b[39;00m url \u001b[38;5;129;01min\u001b[39;00m hotels_list]\n\u001b[0;32m      8\u001b[0m data_frame \u001b[38;5;241m=\u001b[39m df\n\u001b[1;32m----> 9\u001b[0m \u001b[43mget_hotel_details\u001b[49m\u001b[43m(\u001b[49m\u001b[43mhotels_list\u001b[49m\u001b[43m,\u001b[49m\u001b[43m \u001b[49m\u001b[43mdata_frame\u001b[49m\u001b[43m)\u001b[49m\n",
      "Cell \u001b[1;32mIn[10], line 30\u001b[0m, in \u001b[0;36mget_hotel_details\u001b[1;34m(hotels_list, df)\u001b[0m\n\u001b[0;32m     28\u001b[0m \u001b[38;5;66;03m# get individual ratings\u001b[39;00m\n\u001b[0;32m     29\u001b[0m rating_div \u001b[38;5;241m=\u001b[39m soup\u001b[38;5;241m.\u001b[39mfind_all(\u001b[38;5;124m'\u001b[39m\u001b[38;5;124mdiv\u001b[39m\u001b[38;5;124m'\u001b[39m, {\u001b[38;5;124m'\u001b[39m\u001b[38;5;124mdata-testid\u001b[39m\u001b[38;5;124m'\u001b[39m: \u001b[38;5;124m'\u001b[39m\u001b[38;5;124mreview-subscore\u001b[39m\u001b[38;5;124m'\u001b[39m})\n\u001b[1;32m---> 30\u001b[0m staff \u001b[38;5;241m=\u001b[39m \u001b[38;5;28mfloat\u001b[39m(get_rating(rating_div, \u001b[38;5;241m0\u001b[39m)) \u001b[38;5;28;01mif\u001b[39;00m \u001b[43mstaff\u001b[49m \u001b[38;5;28;01melse\u001b[39;00m \u001b[38;5;28;01mNone\u001b[39;00m\n\u001b[0;32m     31\u001b[0m facilities \u001b[38;5;241m=\u001b[39m \u001b[38;5;28mfloat\u001b[39m(get_rating(rating_div, \u001b[38;5;241m1\u001b[39m)) \u001b[38;5;28;01mif\u001b[39;00m facilities \u001b[38;5;28;01melse\u001b[39;00m \u001b[38;5;28;01mNone\u001b[39;00m\n\u001b[0;32m     32\u001b[0m cleanliness \u001b[38;5;241m=\u001b[39m \u001b[38;5;28mfloat\u001b[39m(get_rating(rating_div, \u001b[38;5;241m2\u001b[39m)) \u001b[38;5;28;01mif\u001b[39;00m cleanliness \u001b[38;5;28;01melse\u001b[39;00m \u001b[38;5;28;01mNone\u001b[39;00m\n",
      "\u001b[1;31mUnboundLocalError\u001b[0m: cannot access local variable 'staff' where it is not associated with a value"
     ]
    }
   ],
   "source": [
    "with open('SG.xml', 'r') as f:\n",
    "    data = f.read()\n",
    "Bs_data = BeautifulSoup(data, \"xml\")\n",
    "\n",
    "hotels_list = [loc.text for loc in Bs_data.find_all('loc')]\n",
    "hotels_list = list(filter(lambda x: '/sg/' in x, hotels_list)) # list of all  hotel links in the specified region\n",
    "hotels_list = [url.replace('vi', 'en-gb') for url in hotels_list]\n",
    "data_frame = df\n",
    "get_hotel_details(hotels_list, data_frame)\n"
   ]
  },
  {
   "cell_type": "code",
   "execution_count": null,
   "metadata": {},
   "outputs": [
    {
     "data": {
      "text/html": [
       "<div>\n",
       "<style scoped>\n",
       "    .dataframe tbody tr th:only-of-type {\n",
       "        vertical-align: middle;\n",
       "    }\n",
       "\n",
       "    .dataframe tbody tr th {\n",
       "        vertical-align: top;\n",
       "    }\n",
       "\n",
       "    .dataframe thead th {\n",
       "        text-align: right;\n",
       "    }\n",
       "</style>\n",
       "<table border=\"1\" class=\"dataframe\">\n",
       "  <thead>\n",
       "    <tr style=\"text-align: right;\">\n",
       "      <th></th>\n",
       "      <th>Hotel Name</th>\n",
       "      <th>Overall Rating (Value)</th>\n",
       "      <th>Overall Rating</th>\n",
       "      <th>Number of Reviews</th>\n",
       "      <th>Staff</th>\n",
       "      <th>Facilities</th>\n",
       "      <th>Cleanliness</th>\n",
       "      <th>Comfort</th>\n",
       "      <th>Value for Money</th>\n",
       "      <th>Location</th>\n",
       "      <th>Free WiFi</th>\n",
       "    </tr>\n",
       "  </thead>\n",
       "  <tbody>\n",
       "  </tbody>\n",
       "</table>\n",
       "</div>"
      ],
      "text/plain": [
       "Empty DataFrame\n",
       "Columns: [Hotel Name, Overall Rating (Value), Overall Rating, Number of Reviews, Staff, Facilities, Cleanliness, Comfort, Value for Money, Location, Free WiFi]\n",
       "Index: []"
      ]
     },
     "execution_count": 278,
     "metadata": {},
     "output_type": "execute_result"
    }
   ],
   "source": [
    "df"
   ]
  },
  {
   "cell_type": "markdown",
   "metadata": {},
   "source": [
    "# TESTING"
   ]
  },
  {
   "cell_type": "code",
   "execution_count": 33,
   "metadata": {},
   "outputs": [],
   "source": [
    "with open('SG.xml', 'r') as f:\n",
    "    data = f.read()\n",
    "Bs_data = BeautifulSoup(data, \"xml\")\n",
    "\n",
    "hotels_list = [loc.text for loc in Bs_data.find_all('loc')]"
   ]
  },
  {
   "cell_type": "code",
   "execution_count": 34,
   "metadata": {},
   "outputs": [
    {
     "data": {
      "text/plain": [
       "['https://www.booking.com/hotel/sg/marina-bay-sands.en-gb.html']"
      ]
     },
     "execution_count": 34,
     "metadata": {},
     "output_type": "execute_result"
    }
   ],
   "source": [
    "hotels_list"
   ]
  },
  {
   "cell_type": "code",
   "execution_count": null,
   "metadata": {},
   "outputs": [],
   "source": [
    "# import requests\n",
    "# url = \"https://www.booking.com/hotel/sg/ibis-budget-singapore-emerald.en-gb.html\"\n",
    "\n",
    "# headers = {\n",
    "#     'authority': 'www.booking.com',\n",
    "#     'accept': 'text/html,application/xhtml+xml,application/xml;q=0.9,image/avif,image/webp,image/apng,*/*;q=0.8,application/signed-exchange;v=b3;q=0.7',\n",
    "#     'accept-language': 'en-US,en;q=0.9',\n",
    "#     'cache-control': 'no-cache',\n",
    "#     'cookie': 'px_init=0; px_init=0; cors_js=1; BJS=-; _ga=GA1.2.2065393770.1710243842; _gid=GA1.2.1302326881.1710243842; OptanonConsent=implicitConsentCountry=nonGDPR&implicitConsentDate=1710243842338; bkng_prue=1; _scid=9c831af9-bd31-4dc3-b577-a4cd3bf79273; _pin_unauth=dWlkPVpXWTJNVGc1TmpBdE5ESm1PUzAwTWpBMkxUZzBPREl0WXpReFpqRmhNREpoT0dZNA; _sctr=1^%^7C1710172800000; b=^%^7B^%^22countLang^%^22^%^3A4^%^7D; googtrans=/auto/en; googtrans=/auto/en; pxcts=2941d276-e067-11ee-833c-d65f0674f27d; _pxvid=2941c0a8-e067-11ee-833c-49493cd0293f; bkng_last_login_attempt_timestamp=2024-03-12^%^2012^%^3A53^%^3A41; bkng_sso_ses=eyJib29raW5nX2dsb2JhbCI6W3siaCI6ImV1aTVFa0orbXI0SVNIRS9TL3Y0VmZGMTQySk95SktHd1VkcFRjM1AxMGsifV19; bkng_sso_session=eyJib29raW5nX2dsb2JhbCI6W3sibG9naW5faGludCI6ImV1aTVFa0orbXI0SVNIRS9TL3Y0VmZGMTQySk95SktHd1VkcFRjM1AxMGsifV19; pcm_consent=consentedAt^%^3D2024-03-12T11^%^3A53^%^3A52.919Z^%^26countryCode^%^3DSG^%^26expiresAt^%^3D2024-09-08T11^%^3A53^%^3A52.919Z^%^26implicit^%^3Dfalse^%^26regulation^%^3Dnone^%^26legacyRegulation^%^3Dnone^%^26consentId^%^3D9d6e5b7d-851f-4789-9651-ce123ffa9e34^%^26analytical^%^3Dtrue^%^26marketing^%^3Dtrue; bkng_sso_auth=CAIQsOnuTRqIAVum7++V34xHYxcxrRjsKYQevt9v7inImEb4kVU8sSly7I2HOSeTpxZv6bSPaeka/seRMbf1RUIbT53TwoVRD+BY36TNJ2+Xqe0+OqPt7qIFfF1H5+DzLpo/X4Kyy7DgK3rB8t0Ic7FvYJfCmxxPmtx//HHG6I+d1EMQGN//Ev/gWXKxBSmArQA=; cgumid=SqvW8KemjjGHscL6P4U00WSkLeOYBsed; cto_bundle=vVCKWl85U1Fyd3JDRkFEcmZWa2hjVXF1QklMU0ZLd2J0S2p0eUxsNmZ5empMSW1jSWV3c3dmNEhMSWEwWkIlMkIyZTRMRkpFTHRMdDlQJTJGJTJGeDdRZ0lPemhwT09UayUyQjBFZSUyRlh2d2Fra29hZUpyUm5UQ05GdDVVbXhDMEZyaVJ0cHZibTIzbmZVTG9QJTJCVXJ1Y2ZtRmdyNWp0N2llYXclM0QlM0Q; _uetsid=d3e7b420e06511ee98deeb67147a8a4f; _uetvid=d3e7fee0e06511ee8a8193121267ab8f; _scid_r=9c831af9-bd31-4dc3-b577-a4cd3bf79273; bkng=11UmFuZG9tSVYkc2RlIyh9Yaa29^%^2F3xUOLbLpunidpvsIindLL^%^2BcJD26FV3091PoLnFYjYqTMR^%^2B0^%^2B2fRea5Fiq3az1wUR67EVcNHy3ti7bAeA3yroQkSeNmWc5vF77D^%^2Bi^%^2FwbD8CaxauPh6vgsfLDfJgLD5UR5dZHJyODbfndeMEPG9cj0dE91XoDlgwZzAUdgLMCN1J3Hvv1mxw5OowFndtGdQH2dyLNXDBgaNqLpSAiu4896S9ntUZEg^%^3D^%^3D; aws-waf-token=df266092-8a26-422a-a12e-b6fc09557780:BgoAuCNYAtZAAAAA:h900G3C/jORUk0G/G4M65l6LK4pd6fj7Kw3+QlI6RvnjCYW973ldzAcP3TJ53phobDp9Zu5EVRzBJOIxai3/51Z9mOoCTvpA384xqf+mR4TffNJq12tOZ/9q8GgueMhj6D1anuFbnd0ByS6slJLLDsxOUsRqivPkUZLS9kfU70M5M3GIgKeJznBcfmZkin4JvjDNxGO00Q4k3V3Gzivnma9/NDyEsdtCyF5NJMtba8EGlFi6B9NlU+L7djUjAOp9d7Y=; lastSeen=0^',\n",
    "#     'pragma': 'no-cache',\n",
    "#     'referer': f'{url}',\n",
    "#     'sec-ch-ua': '\"Chromium\";v=\"122\", \"Not(A;Brand\";v=\"24\", \"Google Chrome\";v=\"122\"',\n",
    "#     'sec-ch-ua-mobile': '?0',\n",
    "#     'sec-ch-ua-platform': '\"Windows\"',\n",
    "#     'sec-fetch-dest': 'document',\n",
    "#     'sec-fetch-mode': 'navigate',\n",
    "#     'sec-fetch-site': 'same-origin',\n",
    "#     'sec-fetch-user': '?1',\n",
    "#     'upgrade-insecure-requests': '1',\n",
    "#     'user-agent': 'Mozilla/5.0 (Windows NT 10.0; Win64; x64) AppleWebKit/537.36 (KHTML, like Gecko) Chrome/122.0.0.0 Safari/537.36',\n",
    "# }\n",
    "\n",
    "# params = (\n",
    "#     ('aid', '304142'),\n",
    "#     ('label', 'gen173nr-1FCAsoyQFCCnJlbmRlenZvdXNICVgEaMkBiAEBmAEJuAEXyAEM2AEB6AEB-AECiAIBqAIDuAKUmMGvBsACAdICJGFkOWRiZTMyLTEzZWMtNDRhMy1iYTE0LWI0YTI4MmZjNDA1M9gCBeACAQ'),\n",
    "#     ('sid', '5d0021cc22d37e75cf653fa0a86b4291'),\n",
    "#     ('age', '0'),\n",
    "#     ('checkin', '2024-03-29'),\n",
    "#     ('checkout', '2024-04-03'),\n",
    "#     ('dest_id', '-73635'),\n",
    "#     ('dest_type', 'city'),\n",
    "#     ('dist', '0'),\n",
    "#     ('do_availability_check', '1'),\n",
    "#     ('group_adults', '2'),\n",
    "#     ('group_children', '1'),\n",
    "#     ('hp_avform', '1'),\n",
    "#     ('hp_group_set', '0'),\n",
    "#     ('no_rooms', '1'),\n",
    "#     ('origin', 'hp'),\n",
    "#     ('sb_price_type', 'total'),\n",
    "#     ('src', 'hotel'),\n",
    "#     ('type', 'total'),\n",
    "# )\n",
    "\n",
    "# response = requests.get(url, headers=headers, params=params)\n",
    "\n",
    "# soup = BeautifulSoup(response.text, 'html.parser')"
   ]
  },
  {
   "cell_type": "code",
   "execution_count": 12,
   "metadata": {},
   "outputs": [
    {
     "ename": "NameError",
     "evalue": "name 'soup' is not defined",
     "output_type": "error",
     "traceback": [
      "\u001b[1;31m---------------------------------------------------------------------------\u001b[0m",
      "\u001b[1;31mNameError\u001b[0m                                 Traceback (most recent call last)",
      "Cell \u001b[1;32mIn[12], line 2\u001b[0m\n\u001b[0;32m      1\u001b[0m \u001b[38;5;66;03m#  Find the div containing the rating\u001b[39;00m\n\u001b[1;32m----> 2\u001b[0m value \u001b[38;5;241m=\u001b[39m \u001b[43msoup\u001b[49m\u001b[38;5;241m.\u001b[39mfind(\u001b[38;5;124m'\u001b[39m\u001b[38;5;124mdiv\u001b[39m\u001b[38;5;124m'\u001b[39m, class_\u001b[38;5;241m=\u001b[39m\u001b[38;5;124m'\u001b[39m\u001b[38;5;124ma3b8729ab1 d86cee9b25\u001b[39m\u001b[38;5;124m'\u001b[39m)\n\u001b[0;32m      3\u001b[0m value\u001b[38;5;241m.\u001b[39mcontents[\u001b[38;5;241m0\u001b[39m]\u001b[38;5;241m.\u001b[39mstrip() \u001b[38;5;28;01mif\u001b[39;00m value \u001b[38;5;28;01melse\u001b[39;00m \u001b[38;5;28;01mNone\u001b[39;00m\n\u001b[0;32m      5\u001b[0m \u001b[38;5;66;03m# print(value)\u001b[39;00m\n",
      "\u001b[1;31mNameError\u001b[0m: name 'soup' is not defined"
     ]
    }
   ],
   "source": [
    "#  Find the div containing the rating\n",
    "value = soup.find('div', class_='a3b8729ab1 d86cee9b25')\n",
    "value.contents[0].strip() if value else None\n",
    "\n",
    "# print(value)\n",
    "\n"
   ]
  },
  {
   "cell_type": "code",
   "execution_count": 13,
   "metadata": {},
   "outputs": [
    {
     "ename": "NameError",
     "evalue": "name 'soup' is not defined",
     "output_type": "error",
     "traceback": [
      "\u001b[1;31m---------------------------------------------------------------------------\u001b[0m",
      "\u001b[1;31mNameError\u001b[0m                                 Traceback (most recent call last)",
      "Cell \u001b[1;32mIn[13], line 2\u001b[0m\n\u001b[0;32m      1\u001b[0m \u001b[38;5;66;03m# rated = soup.find('div', class_='dc5041d860 c72df67c95 a29749fd9f').contents[0]\u001b[39;00m\n\u001b[1;32m----> 2\u001b[0m rated \u001b[38;5;241m=\u001b[39m \u001b[43msoup\u001b[49m\u001b[38;5;241m.\u001b[39mfind(\u001b[38;5;124m'\u001b[39m\u001b[38;5;124mdiv\u001b[39m\u001b[38;5;124m'\u001b[39m, class_\u001b[38;5;241m=\u001b[39m\u001b[38;5;124m'\u001b[39m\u001b[38;5;124me6208ee469\u001b[39m\u001b[38;5;124m'\u001b[39m)\u001b[38;5;241m.\u001b[39mcontents[\u001b[38;5;241m0\u001b[39m]\u001b[38;5;241m.\u001b[39mstrip()\n\u001b[0;32m      3\u001b[0m rated\n",
      "\u001b[1;31mNameError\u001b[0m: name 'soup' is not defined"
     ]
    }
   ],
   "source": [
    "# rated = soup.find('div', class_='dc5041d860 c72df67c95 a29749fd9f').contents[0]\n",
    "rated = soup.find('div', class_='e6208ee469').contents[0].strip()\n",
    "rated\n",
    "\n"
   ]
  },
  {
   "cell_type": "code",
   "execution_count": 14,
   "metadata": {},
   "outputs": [
    {
     "ename": "NameError",
     "evalue": "name 'soup' is not defined",
     "output_type": "error",
     "traceback": [
      "\u001b[1;31m---------------------------------------------------------------------------\u001b[0m",
      "\u001b[1;31mNameError\u001b[0m                                 Traceback (most recent call last)",
      "Cell \u001b[1;32mIn[14], line 1\u001b[0m\n\u001b[1;32m----> 1\u001b[0m num_reviews \u001b[38;5;241m=\u001b[39m \u001b[43msoup\u001b[49m\u001b[38;5;241m.\u001b[39mfind(\u001b[38;5;124m'\u001b[39m\u001b[38;5;124mspan\u001b[39m\u001b[38;5;124m'\u001b[39m, class_\u001b[38;5;241m=\u001b[39m\u001b[38;5;124m'\u001b[39m\u001b[38;5;124ma3b8729ab1 f45d8e4c32 d935416c47\u001b[39m\u001b[38;5;124m'\u001b[39m)\u001b[38;5;241m.\u001b[39mcontents[\u001b[38;5;241m2\u001b[39m]\u001b[38;5;241m.\u001b[39mstrip()\u001b[38;5;241m.\u001b[39msplit(\u001b[38;5;124m'\u001b[39m\u001b[38;5;124m \u001b[39m\u001b[38;5;124m'\u001b[39m)[\u001b[38;5;241m0\u001b[39m]\n\u001b[0;32m      2\u001b[0m \u001b[38;5;66;03m# num_reviews = '940'\u001b[39;00m\n\u001b[0;32m      3\u001b[0m num_reviews \u001b[38;5;241m=\u001b[39m \u001b[38;5;28mint\u001b[39m(num_reviews\u001b[38;5;241m.\u001b[39mreplace(\u001b[38;5;124m'\u001b[39m\u001b[38;5;124m,\u001b[39m\u001b[38;5;124m'\u001b[39m, \u001b[38;5;124m'\u001b[39m\u001b[38;5;124m'\u001b[39m))\n",
      "\u001b[1;31mNameError\u001b[0m: name 'soup' is not defined"
     ]
    }
   ],
   "source": [
    "num_reviews = soup.find('span', class_='a3b8729ab1 f45d8e4c32 d935416c47').contents[2].strip().split(' ')[0]\n",
    "# num_reviews = '940'\n",
    "num_reviews = int(num_reviews.replace(',', ''))\n",
    "num_reviews"
   ]
  },
  {
   "cell_type": "code",
   "execution_count": 15,
   "metadata": {},
   "outputs": [
    {
     "ename": "NameError",
     "evalue": "name 'soup' is not defined",
     "output_type": "error",
     "traceback": [
      "\u001b[1;31m---------------------------------------------------------------------------\u001b[0m",
      "\u001b[1;31mNameError\u001b[0m                                 Traceback (most recent call last)",
      "Cell \u001b[1;32mIn[15], line 2\u001b[0m\n\u001b[0;32m      1\u001b[0m \u001b[38;5;66;03m#  Find the div containing the rating\u001b[39;00m\n\u001b[1;32m----> 2\u001b[0m hotel_name \u001b[38;5;241m=\u001b[39m \u001b[43msoup\u001b[49m\u001b[38;5;241m.\u001b[39mfind(\u001b[38;5;124m'\u001b[39m\u001b[38;5;124ma\u001b[39m\u001b[38;5;124m'\u001b[39m, class_\u001b[38;5;241m=\u001b[39m\u001b[38;5;124m'\u001b[39m\u001b[38;5;124mfn\u001b[39m\u001b[38;5;124m'\u001b[39m)\n\u001b[0;32m      3\u001b[0m hotel_name \u001b[38;5;241m=\u001b[39m hotel_name\u001b[38;5;241m.\u001b[39mtext\u001b[38;5;241m.\u001b[39mstrip()\n\u001b[0;32m      4\u001b[0m hotel_name\n",
      "\u001b[1;31mNameError\u001b[0m: name 'soup' is not defined"
     ]
    }
   ],
   "source": [
    "#  Find the div containing the rating\n",
    "hotel_name = soup.find('a', class_='fn')\n",
    "hotel_name = hotel_name.text.strip()\n",
    "hotel_name"
   ]
  },
  {
   "cell_type": "code",
   "execution_count": 16,
   "metadata": {},
   "outputs": [
    {
     "ename": "NameError",
     "evalue": "name 'soup' is not defined",
     "output_type": "error",
     "traceback": [
      "\u001b[1;31m---------------------------------------------------------------------------\u001b[0m",
      "\u001b[1;31mNameError\u001b[0m                                 Traceback (most recent call last)",
      "Cell \u001b[1;32mIn[16], line 2\u001b[0m\n\u001b[0;32m      1\u001b[0m \u001b[38;5;66;03m#  Find the div containing the rating\u001b[39;00m\n\u001b[1;32m----> 2\u001b[0m rating_div \u001b[38;5;241m=\u001b[39m \u001b[43msoup\u001b[49m\u001b[38;5;241m.\u001b[39mfind_all(\u001b[38;5;124m'\u001b[39m\u001b[38;5;124mdiv\u001b[39m\u001b[38;5;124m'\u001b[39m, {\u001b[38;5;124m'\u001b[39m\u001b[38;5;124mdata-testid\u001b[39m\u001b[38;5;124m'\u001b[39m: \u001b[38;5;124m'\u001b[39m\u001b[38;5;124mreview-subscore\u001b[39m\u001b[38;5;124m'\u001b[39m})\n\u001b[0;32m      3\u001b[0m rating_div\n",
      "\u001b[1;31mNameError\u001b[0m: name 'soup' is not defined"
     ]
    }
   ],
   "source": [
    "#  Find the div containing the rating\n",
    "rating_div = soup.find_all('div', {'data-testid': 'review-subscore'})\n",
    "rating_div"
   ]
  },
  {
   "cell_type": "code",
   "execution_count": 17,
   "metadata": {},
   "outputs": [
    {
     "ename": "NameError",
     "evalue": "name 'rating_div' is not defined",
     "output_type": "error",
     "traceback": [
      "\u001b[1;31m---------------------------------------------------------------------------\u001b[0m",
      "\u001b[1;31mNameError\u001b[0m                                 Traceback (most recent call last)",
      "Cell \u001b[1;32mIn[17], line 1\u001b[0m\n\u001b[1;32m----> 1\u001b[0m staff \u001b[38;5;241m=\u001b[39m \u001b[38;5;28mstr\u001b[39m(\u001b[43mrating_div\u001b[49m[\u001b[38;5;241m0\u001b[39m])\n\u001b[0;32m      2\u001b[0m facilities \u001b[38;5;241m=\u001b[39m \u001b[38;5;28mstr\u001b[39m(rating_div[\u001b[38;5;241m1\u001b[39m])\n\u001b[0;32m      3\u001b[0m cleanliness \u001b[38;5;241m=\u001b[39m \u001b[38;5;28mstr\u001b[39m(rating_div[\u001b[38;5;241m2\u001b[39m])\n",
      "\u001b[1;31mNameError\u001b[0m: name 'rating_div' is not defined"
     ]
    }
   ],
   "source": [
    "staff = str(rating_div[0])\n",
    "facilities = str(rating_div[1])\n",
    "cleanliness = str(rating_div[2])\n",
    "comfort = str(rating_div[3])\n",
    "value_for_money = str(rating_div[4])\n",
    "location = str(rating_div[5])\n",
    "free_wifi = str(rating_div[6])"
   ]
  },
  {
   "cell_type": "code",
   "execution_count": 18,
   "metadata": {},
   "outputs": [
    {
     "ename": "NameError",
     "evalue": "name 'staff' is not defined",
     "output_type": "error",
     "traceback": [
      "\u001b[1;31m---------------------------------------------------------------------------\u001b[0m",
      "\u001b[1;31mNameError\u001b[0m                                 Traceback (most recent call last)",
      "Cell \u001b[1;32mIn[18], line 1\u001b[0m\n\u001b[1;32m----> 1\u001b[0m \u001b[43mstaff\u001b[49m\n",
      "\u001b[1;31mNameError\u001b[0m: name 'staff' is not defined"
     ]
    }
   ],
   "source": [
    "staff"
   ]
  },
  {
   "cell_type": "code",
   "execution_count": 19,
   "metadata": {},
   "outputs": [
    {
     "ename": "NameError",
     "evalue": "name 'cleanliness' is not defined",
     "output_type": "error",
     "traceback": [
      "\u001b[1;31m---------------------------------------------------------------------------\u001b[0m",
      "\u001b[1;31mNameError\u001b[0m                                 Traceback (most recent call last)",
      "Cell \u001b[1;32mIn[19], line 1\u001b[0m\n\u001b[1;32m----> 1\u001b[0m soup \u001b[38;5;241m=\u001b[39m BeautifulSoup(\u001b[43mcleanliness\u001b[49m, \u001b[38;5;124m'\u001b[39m\u001b[38;5;124mhtml.parser\u001b[39m\u001b[38;5;124m'\u001b[39m)\n\u001b[0;32m      2\u001b[0m value \u001b[38;5;241m=\u001b[39m soup\u001b[38;5;241m.\u001b[39mfind_all(\u001b[38;5;124m'\u001b[39m\u001b[38;5;124mdiv\u001b[39m\u001b[38;5;124m'\u001b[39m)\n\u001b[0;32m      3\u001b[0m value[\u001b[38;5;241m-\u001b[39m\u001b[38;5;241m2\u001b[39m]\u001b[38;5;241m.\u001b[39mtext\u001b[38;5;241m.\u001b[39mstrip()\n",
      "\u001b[1;31mNameError\u001b[0m: name 'cleanliness' is not defined"
     ]
    }
   ],
   "source": [
    "soup = BeautifulSoup(cleanliness, 'html.parser')\n",
    "value = soup.find_all('div')\n",
    "value[-2].text.strip()"
   ]
  },
  {
   "cell_type": "code",
   "execution_count": 20,
   "metadata": {},
   "outputs": [
    {
     "ename": "NameError",
     "evalue": "name 'rating_div' is not defined",
     "output_type": "error",
     "traceback": [
      "\u001b[1;31m---------------------------------------------------------------------------\u001b[0m",
      "\u001b[1;31mNameError\u001b[0m                                 Traceback (most recent call last)",
      "Cell \u001b[1;32mIn[20], line 1\u001b[0m\n\u001b[1;32m----> 1\u001b[0m cleanliness \u001b[38;5;241m=\u001b[39m BeautifulSoup(\u001b[38;5;28mstr\u001b[39m(\u001b[43mrating_div\u001b[49m[\u001b[38;5;241m2\u001b[39m]), \u001b[38;5;124m'\u001b[39m\u001b[38;5;124mhtml.parser\u001b[39m\u001b[38;5;124m'\u001b[39m)\u001b[38;5;241m.\u001b[39mfind(\u001b[38;5;124m'\u001b[39m\u001b[38;5;124mdiv\u001b[39m\u001b[38;5;124m'\u001b[39m, class_\u001b[38;5;241m=\u001b[39m\u001b[38;5;124m'\u001b[39m\u001b[38;5;124mccb65902b2 efcd70b4c4\u001b[39m\u001b[38;5;124m'\u001b[39m)\u001b[38;5;241m.\u001b[39mtext\u001b[38;5;241m.\u001b[39mstrip()\n\u001b[0;32m      2\u001b[0m cleanliness\n",
      "\u001b[1;31mNameError\u001b[0m: name 'rating_div' is not defined"
     ]
    }
   ],
   "source": [
    "cleanliness = BeautifulSoup(str(rating_div[2]), 'html.parser').find('div', class_='ccb65902b2 efcd70b4c4').text.strip()\n",
    "cleanliness"
   ]
  },
  {
   "cell_type": "code",
   "execution_count": 21,
   "metadata": {},
   "outputs": [
    {
     "ename": "NameError",
     "evalue": "name 'staff' is not defined",
     "output_type": "error",
     "traceback": [
      "\u001b[1;31m---------------------------------------------------------------------------\u001b[0m",
      "\u001b[1;31mNameError\u001b[0m                                 Traceback (most recent call last)",
      "Cell \u001b[1;32mIn[21], line 1\u001b[0m\n\u001b[1;32m----> 1\u001b[0m soup \u001b[38;5;241m=\u001b[39m BeautifulSoup(\u001b[43mstaff\u001b[49m, \u001b[38;5;124m'\u001b[39m\u001b[38;5;124mhtml.parser\u001b[39m\u001b[38;5;124m'\u001b[39m)\n\u001b[0;32m      2\u001b[0m value \u001b[38;5;241m=\u001b[39m soup\u001b[38;5;241m.\u001b[39mfind_all(\u001b[38;5;124m'\u001b[39m\u001b[38;5;124mdiv\u001b[39m\u001b[38;5;124m'\u001b[39m)\n\u001b[0;32m      3\u001b[0m value[\u001b[38;5;241m-\u001b[39m\u001b[38;5;241m2\u001b[39m]\u001b[38;5;241m.\u001b[39mtext\u001b[38;5;241m.\u001b[39mstrip()\n",
      "\u001b[1;31mNameError\u001b[0m: name 'staff' is not defined"
     ]
    }
   ],
   "source": [
    "soup = BeautifulSoup(staff, 'html.parser')\n",
    "value = soup.find_all('div')\n",
    "value[-2].text.strip()"
   ]
  },
  {
   "cell_type": "code",
   "execution_count": 22,
   "metadata": {},
   "outputs": [
    {
     "ename": "NameError",
     "evalue": "name 'staff' is not defined",
     "output_type": "error",
     "traceback": [
      "\u001b[1;31m---------------------------------------------------------------------------\u001b[0m",
      "\u001b[1;31mNameError\u001b[0m                                 Traceback (most recent call last)",
      "Cell \u001b[1;32mIn[22], line 1\u001b[0m\n\u001b[1;32m----> 1\u001b[0m soup \u001b[38;5;241m=\u001b[39m BeautifulSoup(\u001b[43mstaff\u001b[49m, \u001b[38;5;124m'\u001b[39m\u001b[38;5;124mhtml.parser\u001b[39m\u001b[38;5;124m'\u001b[39m)\n\u001b[0;32m      2\u001b[0m value \u001b[38;5;241m=\u001b[39m soup\u001b[38;5;241m.\u001b[39mfind(\u001b[38;5;124m'\u001b[39m\u001b[38;5;124mdiv\u001b[39m\u001b[38;5;124m'\u001b[39m, class_\u001b[38;5;241m=\u001b[39m\u001b[38;5;124m'\u001b[39m\u001b[38;5;124mccb65902b2 efcd70b4c4\u001b[39m\u001b[38;5;124m'\u001b[39m)\u001b[38;5;241m.\u001b[39mtext\u001b[38;5;241m.\u001b[39mstrip()\n\u001b[0;32m      3\u001b[0m \u001b[38;5;28mtype\u001b[39m(value)\n",
      "\u001b[1;31mNameError\u001b[0m: name 'staff' is not defined"
     ]
    }
   ],
   "source": [
    "soup = BeautifulSoup(staff, 'html.parser')\n",
    "value = soup.find('div', class_='ccb65902b2 efcd70b4c4').text.strip()\n",
    "type(value)\n",
    "value"
   ]
  }
 ],
 "metadata": {
  "kernelspec": {
   "display_name": ".venv",
   "language": "python",
   "name": "python3"
  },
  "language_info": {
   "codemirror_mode": {
    "name": "ipython",
    "version": 3
   },
   "file_extension": ".py",
   "mimetype": "text/x-python",
   "name": "python",
   "nbconvert_exporter": "python",
   "pygments_lexer": "ipython3",
   "version": "3.11.3"
  }
 },
 "nbformat": 4,
 "nbformat_minor": 2
}
