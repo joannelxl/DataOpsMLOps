{
 "cells": [
  {
   "cell_type": "code",
   "execution_count": 1,
   "metadata": {},
   "outputs": [
    {
     "name": "stderr",
     "output_type": "stream",
     "text": [
      "[nltk_data] Downloading package stopwords to\n",
      "[nltk_data]     /Users/joelleng/nltk_data...\n",
      "[nltk_data]   Package stopwords is already up-to-date!\n",
      "[nltk_data] Downloading package wordnet to\n",
      "[nltk_data]     /Users/joelleng/nltk_data...\n",
      "[nltk_data]   Package wordnet is already up-to-date!\n",
      "[nltk_data] Downloading package punkt to /Users/joelleng/nltk_data...\n",
      "[nltk_data]   Package punkt is already up-to-date!\n",
      "[nltk_data] Downloading package vader_lexicon to\n",
      "[nltk_data]     /Users/joelleng/nltk_data...\n",
      "[nltk_data]   Package vader_lexicon is already up-to-date!\n"
     ]
    },
    {
     "data": {
      "text/plain": [
       "True"
      ]
     },
     "execution_count": 1,
     "metadata": {},
     "output_type": "execute_result"
    }
   ],
   "source": [
    "# Import for database connection and other basic libraries\n",
    "import mysql.connector\n",
    "import pandas as pd\n",
    "import numpy as np\n",
    "import os\n",
    "import re\n",
    "from sqlalchemy import create_engine\n",
    "from dotenv import load_dotenv\n",
    "\n",
    "\n",
    "import nltk\n",
    "from nltk.tokenize import word_tokenize\n",
    "from nltk.stem import WordNetLemmatizer\n",
    "from nltk.corpus import stopwords\n",
    "nltk.download('stopwords')\n",
    "nltk.download('wordnet')\n",
    "nltk.download('punkt')\n",
    "nltk.download('vader_lexicon')\n",
    "\n",
    "from imblearn.over_sampling import RandomOverSampler\n",
    "\n",
    "# Import libraries for LSTM\n",
    "import torch\n",
    "import torch.nn as nn\n",
    "import torch.nn.functional as F\n",
    "from collections import Counter\n",
    "from tqdm import tqdm\n",
    "import matplotlib.pyplot as plt\n",
    "from torch.utils.data import TensorDataset, DataLoader\n",
    "from sklearn.model_selection import train_test_split\n",
    "\n",
    "\n",
    "import warnings\n",
    "warnings.filterwarnings(\"ignore\")\n",
    "\n",
    "load_dotenv()"
   ]
  },
  {
   "cell_type": "markdown",
   "metadata": {},
   "source": [
    "## Connect to data warehouse"
   ]
  },
  {
   "cell_type": "code",
   "execution_count": 2,
   "metadata": {},
   "outputs": [],
   "source": [
    "dwh_host = os.getenv(\"DATAWH_ENDPOINT\")\n",
    "dwh_user = os.getenv(\"DATAWH_USERNAME\")\n",
    "dwh_pw = os.getenv(\"DATAWH_PASSWORD\")\n",
    "dwh_name = os.getenv(\"DATAWH_NAME\")\n",
    "dwh_port = os.getenv(\"DATAWH_PORT\")\n",
    "\n",
    "# db_datawarehouse = mysql.connector.connect(\n",
    "#     host=dwh_host,\n",
    "#     user=dwh_user,\n",
    "#     passwd=dwh_pw,\n",
    "#     database=dwh_name\n",
    "# )\n",
    "\n",
    "engine = create_engine(f'mysql://{dwh_user}:{dwh_pw}@{dwh_host}:{dwh_port}/{dwh_name}', echo=False, future=True)\n",
    "db_datawarehouse = engine.connect()"
   ]
  },
  {
   "cell_type": "markdown",
   "metadata": {},
   "source": [
    "## Set up for LSTM\n",
    "1) CUDA usage\n",
    "2) Load dataset and to train test split\n",
    "    - Utilise the temporal dimension of our data to conduct dataset splot, we will split it into 80/10/10 of train set, test set and val set respectively"
   ]
  },
  {
   "cell_type": "code",
   "execution_count": 3,
   "metadata": {},
   "outputs": [
    {
     "name": "stdout",
     "output_type": "stream",
     "text": [
      "GPU not available, CPU used\n"
     ]
    }
   ],
   "source": [
    "is_cuda = torch.cuda.is_available()\n",
    "\n",
    "# If we have a GPU available, we'll set our device to GPU. We'll use this device variable later in our code.\n",
    "if is_cuda:\n",
    "    device = torch.device(\"cuda\")\n",
    "    print(\"GPU is available\")\n",
    "else:\n",
    "    device = torch.device(\"cpu\")\n",
    "    print(\"GPU not available, CPU used\")"
   ]
  },
  {
   "cell_type": "code",
   "execution_count": 4,
   "metadata": {},
   "outputs": [],
   "source": [
    "df = pd.read_sql_table('review', db_datawarehouse).copy()\n",
    "df = df.drop(columns=['index'])\n",
    "#print([data['Rating'].value_counts(), data['Text_Sentiment'].value_counts(), data['Title_Sentiment'].value_counts()])"
   ]
  },
  {
   "cell_type": "code",
   "execution_count": 5,
   "metadata": {},
   "outputs": [
    {
     "name": "stdout",
     "output_type": "stream",
     "text": [
      "Shape of train data is (10045,) and (10045,)\n",
      "Shape of test data is (593,) and (593,)\n",
      "Shape of val data is (594,) and (594,)\n"
     ]
    }
   ],
   "source": [
    "data = df[['ReviewText', 'DateOfStay', 'Text_Sentiment']]\n",
    "train_data = data[data['DateOfStay'].apply(lambda x: int(x.split('-')[0])) < 2022]\n",
    "test_data = data[data['DateOfStay'].apply(lambda x: int(x.split('-')[0])) >= 2022]\n",
    "X_trainset, y_trainset = train_data['ReviewText'].values, train_data['Text_Sentiment'].values\n",
    "X_test_val, y_test_val = test_data['ReviewText'].values, test_data['Text_Sentiment'].values\n",
    "X_testset, X_valset, y_testset, y_valset = train_test_split(X_test_val, y_test_val, test_size=0.5)\n",
    "\n",
    "print(f'Shape of train data is {X_trainset.shape} and {y_trainset.shape}')\n",
    "print(f'Shape of test data is {X_testset.shape} and {y_testset.shape}')\n",
    "print(f'Shape of val data is {X_valset.shape} and {y_valset.shape}')"
   ]
  },
  {
   "cell_type": "code",
   "execution_count": 6,
   "metadata": {},
   "outputs": [
    {
     "name": "stdout",
     "output_type": "stream",
     "text": [
      "\n",
      " Text input: Due to the pandemic and the fluid nature of border restrictions, we opted to spend our anniversary this year in Singapore again.      We opted for 3 separate staycations and, in order to compare the hotels we 've chosen, the duration for each of our staycations was the same duration and over the same days of different weeks.    Marina Bay Sands was our second staycation.    We had stayed once before but that memory was become fuzzy.  All I could remember was that the restroom was huge.    Actually we didn 't plan to stay at the MBS.  However, due to the availability of a promotion, we decided to have our second staycation there  u2013 and boy were we glad we did.    We always opt for rooms with club benefits.  However, during the period of our staycation, all the rooms with club access were under renovation and only suites were available.  I decided against going for a suite since we would probably just stay on bed the whole time and would not be able to justify the hefty costs for the extra space in the suite.    Hence, it was with trepidation that we booked for our stay from December 14 to 16 2021.      My wife was so apprehensive about the prospect of a staycation without club benefits that she wanted to cancel it.     Pros:  1.  MBS makes full use of technology.  Prior to our check-in, we received a link to select our preferred check-in time.  This totally removed the need to speak with the front desk at the start of our staycation.  We also got to book our slots for the use of the infinity pools and other hotel facilities.     2.  The hotel is really serious about its safe management measures.  This is the ONLY hotel that checks in every guest who uses the lifts to the room and checks out every guest who exits the lifts.  There is no way extra  'guests ' can make their way into the guest rooms.    3.  The air-con in the room works fantastically well.  The room was chilled to the level of our liking!     4. Although we stayed in an ordinary room, the mini bar was replenished daily and it was free!  What a treat!     5.  I have always thought that having a TV in the room was a silly idea.  However, MBS managed to change that opinion of mine because its smart TV was easy to connect to my phone and we could watch Netflix on TV.    I have stayed in hotels that have smart TVs that are impossible to connect.   Staying at the MBS was like staying at home  u2013 only better.    6.  My initial thought that the check-in process was one that was going to spoil my staycation due to the sheer number of people at the lobby.  However my personal experience was a super pleasant one.  I was ushered into a room with a seat and was attended to by a very thorough and professional Ms Adilah.  Ms Adilah did not ask questions as a filler or just to make small talk.  She asked questions so that she could provide solutions.  For example, she asked if I have booked for my pool sessions.  When I told her I could not get a timing for the first day, she took the trouble to secure a slot after making a few checks.    To me, the checking in process sets the tone for my stay.    Thank you, Ms Adilah!        7.  There are a lot to do at the Marina Shoppes.  Because my membership was upgraded to the next tier, it made shopping and dinning at the restaurants linked via the escalators an even better experience.    8.  Checking out was equally efficient.  No forms.  No queues.  Just drop your room card and its done.    Cons:    Normally I would have a long list of cons.  For MBS, the ONLY negative point I would give was for our unfortunate dinner experience at the Rise Restaurant located in the lobby.    Not only was the waiting time for our food unduly long, the taste way of the fried rice and satay were below mediocre.  I really don 't think the restaurant can justify the 40-minute waiting time for a plate of fried rice and a few sticks of satay.     Moreover, our order of satay came undercooked!      The mutton was impossible to chew and the meat was red and bloody.  I had to spit it out.     When I informed the wait staff, the remaining 2 sticks of satay were sent back to the kitchen and returned  - charred and inedible.    On hindsight, I thought even a regular restaurant would have prepared another 2-3 sticks of satay and served them to us instead of taking the undercooked ones back into the kitchen to char them.    Given the current pandemic situation, I thought the restaurant should have known better.    Moreover,   I would say that the satay served at Rise was of the worst I 've tasted offered by any restaurants in any hotel.      This is definitely does not live up to an MBS standard and reputation.      The dinner at Rise was the only bad experience we had during our short staycation.  It kinds of spoilt our dinner on the second night of our stay.    Would we stay again?  We would love to experience the club lounge at the Marina Bay Sands Singapore.   I want to believe it is going to be of a standard above the rest. But we 'll probably never going to step into Rise again.\n",
      "\n",
      "\n",
      " Text input: Military precision operation with hearts and soul - something other city hotels can learn from.    Making up for the lack of historical legacy and geographical location, MBS boasts of grandiose in its unique architectural style and all-hands-on-deck service that is uniquely Singapore.    Few hotels in the can match the breathtaking panorama from the 2000+ guest rooms. My advice is to opt for one with a city view.     Rooms are impeccably appointed and cleaned.  Mine ($500 per night) is humongous with two very huge independently controlled LCD TV.     Techies will like that the hotel system is linked to restaurants and brand-name shops across the MBS campus.      Foodies will appreciate the gastronomic experience of savoring the best of the best cuisines from traditional to fusion.    Families will love the diverse range of activities and options for everyone.     Last but not least, the tycoons will know that they will be accorded the VVVIP treatment even before they set foot here.    \n",
      "\n",
      "\n",
      " Text input: All these are good.   Transportation, location, ease of check-in, checkout, concierge, staff politeness, cleanliness, minibar items, distance to shopping mall/casino/restaurants, views from infinity pool and observation deck.     These can be improved   -I was not allowed to drink 'outside' drink at the infinity pool resting chair, but I brought that 'outside' drink from hotel's very own minibar in the room ud83e udd23 ud83e udd23 ud83d ude02    -Rise quality of breakfast can be further improved. The bacon in Western set was too hard. So as the youtiao in Chinese set. The congee, century egg, and soup based wonton Mee is bland. Finally the curry puff in malay set has too much curry powder taste.\n",
      "\n"
     ]
    }
   ],
   "source": [
    "# Testing data\n",
    "print('\\n Text input: {}\\n'.format(X_trainset[0]))\n",
    "print('\\n Text input: {}\\n'.format(X_trainset[1]))\n",
    "print('\\n Text input: {}\\n'.format(X_trainset[2]))\n",
    "\n"
   ]
  },
  {
   "cell_type": "markdown",
   "metadata": {},
   "source": [
    "## Feature Engineering for LSTM"
   ]
  },
  {
   "cell_type": "code",
   "execution_count": 7,
   "metadata": {},
   "outputs": [],
   "source": [
    "def preprocess_string(s):\n",
    "    # Remove all non-word characters (everything except numbers and letters)\n",
    "    s = re.sub(r\"[^\\w\\s]\", '', s)\n",
    "    # Replace all runs of whitespaces with no space\n",
    "    s = re.sub(r\"\\s+\", '', s)\n",
    "    # replace digits with no space\n",
    "    s = re.sub(r\"\\d\", '', s)\n",
    "\n",
    "    return s\n",
    "\n",
    "def process_text(text):\n",
    "    \n",
    "    # Initialise\n",
    "    lemmatizer = WordNetLemmatizer()\n",
    "    edited_stop_words = stopwords.words('english')\n",
    "    processed_text = \" \"\n",
    "    \n",
    "    # Process input\n",
    "    text_lower = text.lower()\n",
    "    word = word_tokenize(text_lower)\n",
    "    \n",
    "    # Alphabetical Tokens\n",
    "    alphabetic_tokens = [preprocess_string(word) for word in word if re.match('^[a-zA-Z]+$', word)]\n",
    "    \n",
    "    print(alphabetic_tokens)\n",
    "\n",
    "    # Edit stopwords list\n",
    "    edited_stop_words.remove('no')\n",
    "    edited_stop_words.remove('not')\n",
    "    edited_stop_words.remove(\"wouldn't\")\n",
    "    edited_stop_words.remove('wouldn')\n",
    "    edited_stop_words.remove(\"couldn't\")\n",
    "    edited_stop_words.remove('couldn')\n",
    "    edited_stop_words.remove(\"against\")\n",
    "    \n",
    "    # Remove stopwords from text and lemmatize\n",
    "    stop_words = set(edited_stop_words)\n",
    "    \n",
    "    lem_words = []\n",
    "    for word in alphabetic_tokens:\n",
    "        if word not in stop_words:\n",
    "            lem_words.append(lemmatizer.lemmatize(word))\n",
    "    \n",
    "    # Join the list of words\n",
    "    processed_text = processed_text.join(lem_words)     #print(edited_stop_words)\n",
    "\n",
    "    return processed_text\n",
    "\n",
    "def tokenize(x_train, x_test, x_val):\n",
    "    word_list = []\n",
    "\n",
    "    stop_words = set(stopwords.words('english'))\n",
    "    for sent in x_train:\n",
    "        # print(type(sent)) 'str'\n",
    "        for word in sent.lower().split():\n",
    "            word = preprocess_string(word)\n",
    "            if word not in stop_words and word != '':\n",
    "                word_list.append(word)\n",
    "\n",
    "    corpus = Counter(word_list)\n",
    "    # sorting on the basis of 1000 most common words.\n",
    "    corpus_ = sorted(corpus,key=corpus.get,reverse=True)[:1000]\n",
    "    # creating a dict\n",
    "    onehot_dict = {w:i+1 for i,w in enumerate(corpus_)}\n",
    "\n",
    "    # tokenize\n",
    "    final_list_train, final_list_test, final_list_val = [], [], []\n",
    "    for sent in x_train:\n",
    "            final_list_train.append([onehot_dict[preprocess_string(word)] for word in sent.lower().split()\n",
    "                                     if preprocess_string(word) in onehot_dict.keys()])\n",
    "    for sent in x_test:\n",
    "            final_list_test.append([onehot_dict[preprocess_string(word)] for word in sent.lower().split()\n",
    "                                    if preprocess_string(word) in onehot_dict.keys()])\n",
    "            \n",
    "    for sent in x_val:\n",
    "            final_list_val.append([onehot_dict[preprocess_string(word)] for word in sent.lower().split()\n",
    "                                    if preprocess_string(word) in onehot_dict.keys()])\n",
    "\n",
    "    return np.array(final_list_train, dtype=object), np.array(final_list_test, dtype=object), np.array(final_list_val, dtype=object), onehot_dict\n",
    "\n",
    "X_train, X_test, X_val , vocab = tokenize(X_trainset, X_testset, X_valset)\n",
    "y_train, y_test, y_val = y_trainset, y_testset, y_valset"
   ]
  },
  {
   "cell_type": "markdown",
   "metadata": {},
   "source": [
    "Analysing and visualising the length of the preprocessed text"
   ]
  },
  {
   "cell_type": "code",
   "execution_count": 8,
   "metadata": {},
   "outputs": [
    {
     "data": {
      "image/png": "[encoded data removed]",
      "text/plain": [
       "<Figure size 640x480 with 1 Axes>"
      ]
     },
     "metadata": {},
     "output_type": "display_data"
    },
    {
     "data": {
      "text/plain": [
       "count    10045.000000\n",
       "mean        55.226481\n",
       "std         49.119345\n",
       "min          1.000000\n",
       "25%         25.000000\n",
       "50%         40.000000\n",
       "75%         67.000000\n",
       "max        994.000000\n",
       "dtype: float64"
      ]
     },
     "execution_count": 8,
     "metadata": {},
     "output_type": "execute_result"
    }
   ],
   "source": [
    "rev_len = [len(i) for i in X_train]\n",
    "pd.Series(rev_len).hist(bins=15, edgecolor=\"red\")\n",
    "plt.show()\n",
    "pd.Series(rev_len).describe()"
   ]
  },
  {
   "cell_type": "code",
   "execution_count": 9,
   "metadata": {},
   "outputs": [
    {
     "name": "stdout",
     "output_type": "stream",
     "text": [
      "\n",
      " Text input: [254, 216, 571, 392, 7, 436, 497, 75, 186, 262, 21, 6, 33, 331, 446, 24, 48, 633, 51, 292, 853, 5, 46, 73, 254, 272, 331, 446, 156, 500, 116, 22, 41, 73, 446, 22, 41, 68, 859, 234, 272, 146, 112, 266, 16, 252, 5, 104, 232, 15, 16, 188, 201, 317, 112, 107, 5, 427, 446, 214, 41, 229, 46, 393, 177, 143, 902, 89, 568, 89, 15, 453, 98, 195, 197, 483, 446, 26, 69, 250, 143, 14, 603, 1, 189, 1, 30, 777, 591, 1, 85, 161, 498, 3, 85, 161, 498, 95, 201, 61, 120, 95, 161, 22, 3, 40, 3, 134, 175, 24, 3, 535, 102, 828, 130, 440, 116, 326, 547, 3, 873, 73, 46, 575, 551, 881, 547, 202, 664, 48, 374, 547, 24, 75, 67, 46, 29, 67, 556, 156, 103, 326, 89, 435, 9, 146, 446, 254, 869, 273, 37, 93, 73, 360, 23, 241, 447, 9, 3, 829, 505, 343, 120, 192, 231, 48, 584, 231, 107, 2, 194, 48, 18, 80, 44, 158, 870, 514, 261, 435, 5, 304, 138, 21, 478, 279, 126, 117, 57, 52, 683, 43, 103, 23, 261, 333, 569, 3, 210, 377, 16, 99, 320, 46, 784, 403, 16, 296, 268, 23, 371, 111, 285, 93, 269, 15, 34, 99, 931, 95, 30, 140, 111, 640, 269, 15, 497, 239, 166, 11, 705, 50, 972, 326, 43, 111, 16, 629, 174, 598, 25, 493, 219, 846, 50, 199, 326, 111, 103, 16, 127, 598, 371, 809, 353, 52, 1, 63, 750, 46, 303, 268, 371, 321, 23, 341, 446, 268, 331, 13, 5, 16, 5, 16, 226, 23, 41, 153, 21, 6, 33, 7, 105, 616, 146, 303, 428, 252, 167, 146, 371]\n",
      "\n"
     ]
    }
   ],
   "source": [
    "print('\\n Text input: {}\\n'.format(X_train[0]))"
   ]
  },
  {
   "cell_type": "markdown",
   "metadata": {},
   "source": [
    "**Padding**\n",
    "\n",
    "To ensure uniform sequence length for batch processing, we pad the text. There needs to be a fixed input length for the tokens however, our data will not coincidentally have all of the same length. Therfore to solve this issue we will pad tokens at the end of shorter input sequences, ensuring they all have the same input length.\n",
    "\n",
    "This allows multiple sequences to be placed in a batch and efficiently processed in parallel since they have the same length. During model processing, it learns to ignore padding tokens and focus only on the meaningful input tokens, thus not being affected by the padding.\n",
    "\n",
    "We perform padding on the X values in the training, testing and validation data set. Since most reviews have a length of below 500, we will only consider sentences below the 500 range."
   ]
  },
  {
   "cell_type": "code",
   "execution_count": 10,
   "metadata": {},
   "outputs": [
    {
     "name": "stdout",
     "output_type": "stream",
     "text": [
      "1000\n"
     ]
    }
   ],
   "source": [
    "def padding_(sentences, seq_len):\n",
    "    features = np.zeros((len(sentences), seq_len), dtype=int)\n",
    "    for ii, review in enumerate(sentences):\n",
    "        if len(review) != 0:\n",
    "            features[ii, -len(review):] = np.array(review)[:seq_len]\n",
    "    return features\n",
    "\n",
    "\n",
    "X_train_pad = padding_(X_train, 500)\n",
    "X_test_pad = padding_(X_test, 500)\n",
    "X_val_pad = padding_(X_val, 500)\n",
    "\n",
    "# \n",
    "ros = RandomOverSampler(random_state=42)\n",
    "X_train_res, y_train_res = ros.fit_resample(X_train_pad, y_train)\n",
    "\n",
    "print(len(vocab))"
   ]
  },
  {
   "cell_type": "code",
   "execution_count": 11,
   "metadata": {},
   "outputs": [
    {
     "name": "stdout",
     "output_type": "stream",
     "text": [
      "Resampled dataset shape Counter({1: 9670, 0: 9670})\n"
     ]
    }
   ],
   "source": [
    "# Check dataset proportion\n",
    "print('Resampled dataset shape %s' % Counter(y_train_res))"
   ]
  },
  {
   "cell_type": "markdown",
   "metadata": {},
   "source": [
    "## Creating our DataLoader"
   ]
  },
  {
   "cell_type": "code",
   "execution_count": 12,
   "metadata": {},
   "outputs": [],
   "source": [
    "train_data = TensorDataset(torch.from_numpy(X_train_res), torch.from_numpy(y_train_res))\n",
    "test_data = TensorDataset(torch.from_numpy(X_test_pad), torch.from_numpy(y_test))\n",
    "val_data = TensorDataset(torch.from_numpy(X_val_pad), torch.from_numpy(y_val))\n",
    "\n",
    "# Batch size\n",
    "batch_size = 41\n",
    "\n",
    "# DataLoader\n",
    "train_loader = DataLoader(train_data, shuffle=True, batch_size=batch_size)\n",
    "test_loader = DataLoader(test_data, shuffle=True, batch_size=batch_size, drop_last=True)\n",
    "val_loader = DataLoader(val_data, shuffle=True, batch_size=batch_size, drop_last=True)"
   ]
  },
  {
   "cell_type": "code",
   "execution_count": 13,
   "metadata": {},
   "outputs": [
    {
     "name": "stdout",
     "output_type": "stream",
     "text": [
      "Sample input size:  torch.Size([41, 500])\n",
      "Sample sentences x: \n",
      " tensor([[  0,   0,   0,  ..., 312, 346, 181],\n",
      "        [  0,   0,   0,  ..., 232,  35, 416],\n",
      "        [  0,   0,   0,  ..., 274,  52, 211],\n",
      "        ...,\n",
      "        [  0,   0,   0,  ..., 666,  80, 935],\n",
      "        [  0,   0,   0,  ..., 871,   1, 397],\n",
      "        [  0,   0,   0,  ..., 729,  42, 135]])\n",
      "Sample targets y: \n",
      " tensor([1, 1, 1, 1, 0, 1, 0, 0, 1, 0, 0, 1, 0, 0, 0, 1, 0, 1, 1, 0, 0, 1, 1, 0,\n",
      "        0, 0, 1, 0, 1, 0, 1, 0, 1, 0, 1, 1, 0, 1, 0, 0, 1])\n"
     ]
    }
   ],
   "source": [
    "dataiter = iter(train_loader)\n",
    "sample_x, sample_y = next(dataiter)\n",
    "\n",
    "print('Sample input size: ', sample_x.size()) # batch_size, seq_length\n",
    "print('Sample sentences x: \\n', sample_x)\n",
    "print('Sample targets y: \\n', sample_y)"
   ]
  },
  {
   "cell_type": "code",
   "execution_count": 14,
   "metadata": {},
   "outputs": [],
   "source": [
    "class SentimentRNN(nn.Module):\n",
    "    def __init__(self, no_layers, vocab_size, hidden_dim, embedding_dim):\n",
    "        super(SentimentRNN,self).__init__()\n",
    "\n",
    "        self.output_dim = output_dim\n",
    "        self.hidden_dim = hidden_dim\n",
    "\n",
    "        self.no_layers = no_layers\n",
    "        self.vocab_size = vocab_size\n",
    "\n",
    "        # embedding and LSTM layers\n",
    "        self.embedding = nn.Embedding(vocab_size, embedding_dim)\n",
    "\n",
    "        #lstm\n",
    "        self.lstm = nn.LSTM(input_size=embedding_dim,hidden_size=self.hidden_dim,\n",
    "                           num_layers=no_layers, batch_first=True)\n",
    "\n",
    "        # dropout layer\n",
    "        self.dropout = nn.Dropout(0.3)\n",
    "\n",
    "        # linear and sigmoid layer\n",
    "        self.fc = nn.Linear(self.hidden_dim, output_dim)\n",
    "        self.sig = nn.Sigmoid()\n",
    "\n",
    "    def forward(self,x,hidden):\n",
    "        batch_size = x.size(0)\n",
    "        # embeddings and lstm_out\n",
    "\n",
    "        embeds = self.embedding(x)  # shape: B x S x Feature   since batch = True\n",
    "        #print(embeds.shape)  #[50, 500, 64]; 64 is the embedding_dim defined below.\n",
    "        \n",
    "        lstm_out, hidden = self.lstm(embeds, hidden)\n",
    "\n",
    "        # Calling lstm_out.contiguous()to ensure the output tensor from the LSTM is contiguous before performing the view operation.\n",
    "        # reshapes the lstm_out tensor to have 2D layer with a shape of (batch_size * sequence_length, hidden_dim).\n",
    "        lstm_out = lstm_out.contiguous().view(-1, self.hidden_dim)\n",
    "\n",
    "        # dropout and fully connected layer\n",
    "        out = self.dropout(lstm_out)\n",
    "        out = self.fc(out)\n",
    "\n",
    "        # sigmoid function\n",
    "        sig_out = self.sig(out)\n",
    "\n",
    "        # reshape to be batch_size first\n",
    "        sig_out = sig_out.view(batch_size, -1)\n",
    "\n",
    "        sig_out = sig_out[:, -1] # get last batch of labels, this is very important for an output of a sentiment score!!!\n",
    "\n",
    "        # return last sigmoid output and hidden state\n",
    "        return sig_out, hidden\n",
    "\n",
    "\n",
    "\n",
    "    def init_hidden(self, batch_size):\n",
    "        ''' Initializes hidden state '''\n",
    "        # Create two new tensors with sizes n_layers x batch_size x hidden_dim,\n",
    "        # initialized to zero, for hidden state and cell state of LSTM\n",
    "        h0 = torch.zeros((self.no_layers,batch_size,self.hidden_dim)).to(device)\n",
    "        c0 = torch.zeros((self.no_layers,batch_size,self.hidden_dim)).to(device)\n",
    "        hidden = (h0,c0)\n",
    "        return hidden"
   ]
  },
  {
   "cell_type": "code",
   "execution_count": 15,
   "metadata": {},
   "outputs": [
    {
     "name": "stdout",
     "output_type": "stream",
     "text": [
      "SentimentRNN(\n",
      "  (embedding): Embedding(1001, 64)\n",
      "  (lstm): LSTM(64, 256, num_layers=2, batch_first=True)\n",
      "  (dropout): Dropout(p=0.3, inplace=False)\n",
      "  (fc): Linear(in_features=256, out_features=1, bias=True)\n",
      "  (sig): Sigmoid()\n",
      ")\n"
     ]
    }
   ],
   "source": [
    "no_layers = 2\n",
    "vocab_size = len(vocab) + 1 #extra 1 for padding\n",
    "embedding_dim = 64\n",
    "output_dim = 1\n",
    "hidden_dim = 256\n",
    "\n",
    "\n",
    "model = SentimentRNN(no_layers, vocab_size, hidden_dim, embedding_dim)\n",
    "\n",
    "#moving to gpu\n",
    "model.to(device)\n",
    "\n",
    "print(model)"
   ]
  },
  {
   "cell_type": "code",
   "execution_count": 16,
   "metadata": {},
   "outputs": [],
   "source": [
    "lr=0.001\n",
    "\n",
    "criterion = nn.BCELoss()\n",
    "\n",
    "optimizer = torch.optim.Adam(model.parameters(), lr=lr)\n",
    "\n",
    "# function to predict accuracy\n",
    "def acc(pred,label):\n",
    "    pred = torch.round(pred.squeeze())\n",
    "    return torch.sum(pred == label.squeeze()).item()"
   ]
  },
  {
   "cell_type": "code",
   "execution_count": 17,
   "metadata": {},
   "outputs": [],
   "source": [
    "# set the gradient clipping threshold and number of training epochs\n",
    "clip = 5\n",
    "epochs = 20\n",
    "\n",
    "# Initialize the minimum validation loss as positive infinity\n",
    "valid_loss_min = np.Inf\n",
    "\n",
    "epoch_tr_loss,epoch_vl_loss = [],[]\n",
    "epoch_tr_acc,epoch_vl_acc = [],[]\n",
    "\n",
    "for epoch in range(epochs):\n",
    "    train_losses = []\n",
    "    train_acc = 0.0\n",
    "    # set the model to training mode\n",
    "    model.train()\n",
    "    # initialize hidden state\n",
    "    h = model.init_hidden(batch_size)\n",
    "    for inputs, labels in train_loader:\n",
    "\n",
    "        inputs, labels = inputs.to(device), labels.to(device)\n",
    "        # Creating new variables for the hidden state, otherwise\n",
    "        # we'd backprop through the entire training history\n",
    "        h = tuple([each.data for each in h])\n",
    "\n",
    "        # Clear the gradients\n",
    "        model.zero_grad()\n",
    "        \n",
    "        # Perform a forward pass through the model\n",
    "        output,h = model(inputs,h)\n",
    "\n",
    "        # calculate the loss and perform backpropogation\n",
    "        loss = criterion(output.squeeze(), labels.float())\n",
    "        loss.backward()\n",
    "        train_losses.append(loss.item())\n",
    "\n",
    "        # calculating accuracy\n",
    "        accuracy = acc(output,labels)\n",
    "        train_acc += accuracy\n",
    "        # Gradient Clipping: `clip_grad_norm` helps prevent the exploding gradient problem in RNNs / LSTMs.\n",
    "        nn.utils.clip_grad_norm_(model.parameters(), clip)\n",
    "        # Optimizer Step: Update the model's parameters using the optimizer\n",
    "        optimizer.step()\n",
    "\n",
    "\n",
    "    # validation\n",
    "    # Set Model to Evaluation Mode\n",
    "    model.eval()\n",
    "    # Initialize Hidden States\n",
    "    val_h = model.init_hidden(batch_size)\n",
    "    val_losses = []\n",
    "    val_acc = 0.0\n",
    "    # Loop Through Test Data\n",
    "    for inputs, labels in val_loader:\n",
    "        val_h = tuple([each.data for each in val_h])\n",
    "\n",
    "        inputs, labels = inputs.to(device), labels.to(device)\n",
    "        # Forward Pass\n",
    "        output, val_h = model(inputs, val_h)\n",
    "\n",
    "        # Calculate Loss and Metrics(Accuracy)\n",
    "        val_loss = criterion(output.squeeze(), labels.float())\n",
    "        val_losses.append(val_loss.item())\n",
    "        accuracy = acc(output,labels)\n",
    "        val_acc += accuracy\n",
    "\n",
    "    epoch_train_loss = np.mean(train_losses)\n",
    "    epoch_val_loss = np.mean(val_losses)\n",
    "    # Aggregate Metrics\n",
    "    epoch_train_acc = train_acc/len(train_loader.dataset)\n",
    "    epoch_val_acc = val_acc/len(val_loader.dataset)\n",
    "    epoch_tr_loss.append(epoch_train_loss)\n",
    "    epoch_vl_loss.append(epoch_val_loss)\n",
    "    epoch_tr_acc.append(epoch_train_acc)\n",
    "    epoch_vl_acc.append(epoch_val_acc)\n",
    "    print(f'Epoch {epoch+1}')\n",
    "    print(f'train_loss : {epoch_train_loss} val_loss : {epoch_val_loss}')\n",
    "    print(f'train_accuracy : {epoch_train_acc*100} val_accuracy : {epoch_val_acc*100}')\n",
    "    print(25*'==')"
   ]
  },
  {
   "cell_type": "markdown",
   "metadata": {},
   "source": [
    "## Saving the model"
   ]
  },
  {
   "cell_type": "code",
   "execution_count": null,
   "metadata": {},
   "outputs": [],
   "source": [
    "torch.save(model.state_dict(), 'LSTM.pt')"
   ]
  },
  {
   "cell_type": "code",
   "execution_count": null,
   "metadata": {},
   "outputs": [
    {
     "data": {
      "text/plain": [
       "SentimentRNN(\n",
       "  (embedding): Embedding(1001, 64)\n",
       "  (lstm): LSTM(64, 256, num_layers=2, batch_first=True)\n",
       "  (dropout): Dropout(p=0.3, inplace=False)\n",
       "  (fc): Linear(in_features=256, out_features=1, bias=True)\n",
       "  (sig): Sigmoid()\n",
       ")"
      ]
     },
     "execution_count": 74,
     "metadata": {},
     "output_type": "execute_result"
    }
   ],
   "source": [
    "model = SentimentRNN(no_layers, vocab_size, hidden_dim, embedding_dim)\n",
    "model.load_state_dict(torch.load('LSTM.pt'))\n"
   ]
  },
  {
   "cell_type": "code",
   "execution_count": null,
   "metadata": {},
   "outputs": [
    {
     "name": "stdout",
     "output_type": "stream",
     "text": [
      "==================================================\n",
      "test_accuracy : 93.76053962900505\n",
      "==================================================\n"
     ]
    }
   ],
   "source": [
    "model.eval()\n",
    "# Initialize Hidden States\n",
    "test_h = model.init_hidden(batch_size)\n",
    "test_losses = []\n",
    "test_acc = 0.0\n",
    "output_total = []\n",
    "\n",
    "with torch.no_grad():\n",
    "# Loop Through Test Data\n",
    "        for inputs, labels in test_loader:\n",
    "                test_h = tuple([each.data for each in test_h])\n",
    "\n",
    "                inputs, labels = inputs.to(device), labels.to(device)\n",
    "                # Forward Pass\n",
    "                output, test_h = model(inputs, test_h)\n",
    "\n",
    "                # Calculate Loss and Metrics(Accuracy)\n",
    "                test_loss = criterion(output.squeeze(), labels.float())\n",
    "                test_losses.append(test_loss.item())\n",
    "                accuracy = acc(output,labels)\n",
    "                test_acc += accuracy\n",
    "\n",
    "print(25*'==')\n",
    "print(f'test_accuracy : {test_acc/len(test_loader.dataset)*100}')\n",
    "print(25*'==')"
   ]
  },
  {
   "cell_type": "code",
   "execution_count": null,
   "metadata": {},
   "outputs": [],
   "source": []
  }
 ],
 "metadata": {
  "kernelspec": {
   "display_name": ".venv",
   "language": "python",
   "name": "python3"
  },
  "language_info": {
   "codemirror_mode": {
    "name": "ipython",
    "version": 3
   },
   "file_extension": ".py",
   "mimetype": "text/x-python",
   "name": "python",
   "nbconvert_exporter": "python",
   "pygments_lexer": "ipython3",
   "version": "3.10.2"
  }
 },
 "nbformat": 4,
 "nbformat_minor": 2
}
